{
 "cells": [
  {
   "cell_type": "markdown",
   "metadata": {},
   "source": [
    "*LAND* experiment of the paper: we were not able to fully reproduce this experiment."
   ]
  },
  {
   "cell_type": "code",
   "execution_count": 1,
   "metadata": {},
   "outputs": [],
   "source": [
    "import numpy as np\n",
    "import torch\n",
    "import torch.nn as nn\n",
    "from core import VAE,RBFNN,VAE_RBF,utils,manifolds,geodesics\n",
    "import matplotlib.pyplot as plt\n",
    "from sklearn.cluster import KMeans\n",
    "from torch.utils.data import DataLoader,Dataset\n",
    "from torchvision import datasets, transforms\n",
    "\n",
    "import matplotlib as mpl\n",
    "mpl.rcParams['figure.facecolor'] = 'white'"
   ]
  },
  {
   "cell_type": "markdown",
   "metadata": {},
   "source": [
    "# Downloand and preprocess data"
   ]
  },
  {
   "cell_type": "code",
   "execution_count": 2,
   "metadata": {},
   "outputs": [
    {
     "name": "stdout",
     "output_type": "stream",
     "text": [
      "Original size of the dataset:  60000\n",
      "Filtered labels:  [0, 1]\n",
      "New size of the dataset:  12665\n"
     ]
    }
   ],
   "source": [
    "# # MNIST Dataset transformation\n",
    "mnist_transform = transforms.Compose([\n",
    "    transforms.ToTensor(), # Converts to [0, 1] interval\n",
    "    transforms.Lambda(lambda x: torch.flatten(x)) # Flattens the image to a 1D vector\n",
    "])\n",
    "\n",
    "# dataset class to efficiently extract the relevant labels and not make a copy of the entire dataset\n",
    "class FilteredMNIST(Dataset):\n",
    "    def __init__(self, mnist_dataset, labels):\n",
    "        # Extract only the data with the specified labels\n",
    "        self.data = [(img, label) for img, label in mnist_dataset if label in labels]\n",
    "        self.imgs = [img for img, label in self.data]\n",
    "        self.targets = [label for img, label in self.data]\n",
    "\n",
    "    def __len__(self):\n",
    "        return len(self.data)\n",
    "\n",
    "    def __getitem__(self, idx):\n",
    "        return self.data[idx]\n",
    "\n",
    "\n",
    "# # Download and load the MNIST dataset (if taking too long, cancel and try again it will worky)\n",
    "full_train_dataset = datasets.MNIST(root='mnist_data', train=True, transform=mnist_transform, download=True)\n",
    "print(\"Original size of the dataset: \", len(full_train_dataset))\n",
    "filtered_labels = [0, 1]\n",
    "print(\"Filtered labels: \", filtered_labels)\n",
    "train_dataset = FilteredMNIST(full_train_dataset, filtered_labels)\n",
    "print(\"New size of the dataset: \", len(train_dataset))\n",
    "\n",
    "batch_size = 256\n",
    "train_loader = DataLoader(dataset=train_dataset, batch_size=batch_size, shuffle=True,num_workers=4)\n",
    "\n",
    "\n",
    "\n",
    "# # MNIST Dataset transformation\n",
    "# fashionmnist_transform = transforms.Compose([\n",
    "#     transforms.ToTensor(), # Converts to [0, 1] interval\n",
    "#     transforms.Lambda(lambda x: torch.flatten(x)) # Flattens the image to a 1D vector\n",
    "# ])\n",
    "\n",
    "# # dataset class to efficiently extract the relevant labels and not make a copy of the entire dataset\n",
    "# class FilteredMNIST(Dataset):\n",
    "#     def __init__(self, mnist_dataset, labels):\n",
    "#         # Extract only the data with the specified labels\n",
    "#         self.data = [(img, label) for img, label in mnist_dataset if label in labels]\n",
    "#         self.imgs = [img for img, label in self.data]\n",
    "#         self.targets = [label for img, label in self.data]\n",
    "\n",
    "#     def __len__(self):\n",
    "#         return len(self.data)\n",
    "\n",
    "#     def __getitem__(self, idx):\n",
    "#         return self.data[idx]\n",
    "\n",
    "\n",
    "# # Download and load the MNIST dataset (if taking too long, cancel and try again it will worky)\n",
    "# full_train_dataset = datasets.FashionMNIST(root='fashionmnist_data', train=True, transform=fashionmnist_transform, download=True)\n",
    "# print(\"Original size of the dataset: \", len(full_train_dataset))\n",
    "# filtered_labels = [0,1,7]\n",
    "# print(\"Filtered labels: \", filtered_labels)\n",
    "# train_dataset = FilteredMNIST(full_train_dataset, filtered_labels)\n",
    "# print(\"New size of the dataset: \", len(train_dataset))\n",
    "\n",
    "# batch_size = 256\n",
    "# train_loader = DataLoader(dataset=train_dataset, batch_size=batch_size, shuffle=True,num_workers=4)"
   ]
  },
  {
   "cell_type": "markdown",
   "metadata": {},
   "source": [
    "# Load saved model"
   ]
  },
  {
   "cell_type": "code",
   "execution_count": 3,
   "metadata": {},
   "outputs": [
    {
     "data": {
      "text/plain": [
       "<All keys matched successfully>"
      ]
     },
     "execution_count": 3,
     "metadata": {},
     "output_type": "execute_result"
    }
   ],
   "source": [
    "# load the saved model\n",
    "input_dim = train_dataset[0][0].shape[-1]\n",
    "hidden_dims = [64, 32]\n",
    "latent_dim = 2\n",
    "hidden_activation = nn.Tanh()\n",
    "encoder_output_mu_activation=nn.Identity()\n",
    "encoder_output_logvar_activation=nn.Softplus()\n",
    "decoder_output_mu_activation=nn.Sigmoid()\n",
    "decoder_output_logvar_activation=nn.Softplus()\n",
    "\n",
    "model_VAE = VAE.VAE(input_dim = input_dim, \n",
    "                hidden_dims = hidden_dims,\n",
    "                latent_dim = latent_dim, \n",
    "                hidden_activation=hidden_activation, \n",
    "                encoder_output_mu_activation=encoder_output_mu_activation,\n",
    "                encoder_output_logvar_activation=encoder_output_logvar_activation,\n",
    "                decoder_output_mu_activation=decoder_output_mu_activation,\n",
    "                decoder_output_logvar_activation=decoder_output_logvar_activation)\n",
    "\n",
    "# create RBF network\n",
    "k_rbf = 64\n",
    "a = 2\n",
    "zeta_rbf = 1e-6\n",
    "model_rbfnn = RBFNN.RBFNN(a=a,k_rbf=k_rbf,zeta_rbf=zeta_rbf,W_dim=input_dim,latent_dim=latent_dim)\n",
    "\n",
    "# create VAE-RBF model\n",
    "model_VAE_RBF = VAE_RBF.VAE_RBF(model_VAE,model_rbfnn)\n",
    "\n",
    "model_VAE_RBF.load_state_dict(torch.load('torch_models/VAE_RBFNN_MNIST.pt'))"
   ]
  },
  {
   "cell_type": "markdown",
   "metadata": {},
   "source": [
    "# Encode and decode the whole dataset"
   ]
  },
  {
   "cell_type": "code",
   "execution_count": 4,
   "metadata": {},
   "outputs": [],
   "source": [
    "# encode and decode the data and store the outputs of the model\n",
    "# computed on the whole dataset\n",
    "latent_means_list = []\n",
    "latent_logvars_list = []\n",
    "latent_z = []\n",
    "output_means_list = []\n",
    "output_logvars_list = []\n",
    "labels_list = []\n",
    "\n",
    "with torch.no_grad():  \n",
    "    for imgs, labels_ in train_loader: \n",
    "        mu_x, log_var_x, z_enc, mu_z, log_var_z = model_VAE_RBF.VAE(imgs)\n",
    "        z_rep = VAE.VAE.reparametrization_trick(mu_z, log_var_z)\n",
    "        latent_means_list.append(mu_z)\n",
    "        latent_logvars_list.append(log_var_z)\n",
    "        latent_z.append(z_rep)\n",
    "        output_means_list.append(mu_x)\n",
    "        output_logvars_list.append(log_var_x)\n",
    "        labels_list.append(labels_)\n",
    "\n",
    "# Now we concatenate the list to form a single Tensor\n",
    "latent_means = torch.cat(latent_means_list, dim=0)\n",
    "latent_logvars = torch.cat(latent_logvars_list, dim=0)\n",
    "latent_z = torch.cat(latent_z, dim=0)\n",
    "output_means = torch.cat(output_means_list, dim=0)\n",
    "output_logvars = torch.cat(output_logvars_list, dim=0)\n",
    "labels = torch.cat(labels_list, dim=0)"
   ]
  },
  {
   "cell_type": "markdown",
   "metadata": {},
   "source": [
    "## Construct the manifold"
   ]
  },
  {
   "cell_type": "code",
   "execution_count": 5,
   "metadata": {},
   "outputs": [],
   "source": [
    "latent_means_np = latent_means.detach().numpy()\n",
    "\n",
    "# The G_mode_parameters is used by the manifold class to compute the metric tensor\n",
    "G_model_parameters = {'name': 'generator'}\n",
    "w_counter = 0\n",
    "b_counter = 0\n",
    "for name, param in model_VAE_RBF.VAE.named_parameters():\n",
    "    if ('dec' or 'mu_dec') in name:\n",
    "        if 'weight' in name:\n",
    "            key_name = 'W' + str(w_counter)\n",
    "            G_model_parameters[key_name] = param.detach().numpy()\n",
    "            w_counter += 1\n",
    "        elif 'bias' in name:\n",
    "            key_name = 'b' + str(b_counter)\n",
    "            G_model_parameters[key_name] = param.detach().numpy().reshape(-1, 1)\n",
    "            b_counter += 1\n",
    "\n",
    "G_model_parameters['activation_fun_hidden'] = str(hidden_activation).lower()  # Get the name of activFun e.g. Tanh() -> tanh\n",
    "G_model_parameters['activation_fun_output'] = str(decoder_output_mu_activation).lower()\n",
    "G_model_parameters['Wrbf'] = model_VAE_RBF.RBF.W_rbf.detach().numpy()  # The weights for the RBFs (D x K)\n",
    "G_model_parameters['Crbf'] = model_VAE_RBF.RBF.centers_rbf.detach().numpy()  # The centers for the RBFs (K x d)\n",
    "G_model_parameters['Grbf'] = model_VAE_RBF.RBF.lambdas_k.detach().numpy()  # * np.ones((K_rbf, 1))  # The precision for the RBFs (K x 1)\n",
    "G_model_parameters['zeta'] = zeta_rbf  # A small value to prevent division by 0\n",
    "G_model_parameters['beta'] = 1.0  # This scaling parameter of the metric is updated later\n",
    "\n",
    "# Construct the manifold\n",
    "manifold_latent = manifolds.MlpMeanInvRbfVar(G_model_parameters)\n",
    "# Rescale the metric such that the maximum measure on the data to be 1\n",
    "beta_rbf = 1 / (np.sqrt(np.linalg.det(manifold_latent.metric_tensor(latent_means_np.T)).max()))\n",
    "G_model_parameters['beta'] = beta_rbf ** (2 / latent_dim)  # Rescale the pull-back metric\n",
    "z1min, z2min = latent_means_np.min(0) - 0.5\n",
    "z1max, z2max = latent_means_np.max(0) + 0."
   ]
  },
  {
   "cell_type": "markdown",
   "metadata": {},
   "source": [
    "# Land prediction"
   ]
  },
  {
   "cell_type": "code",
   "execution_count": 17,
   "metadata": {},
   "outputs": [
    {
     "name": "stdout",
     "output_type": "stream",
     "text": [
      "19 21\n"
     ]
    }
   ],
   "source": [
    "# Get 40 representative samples from the dataset\n",
    "labels_np = labels.detach().numpy()\n",
    "p0 = np.sum(labels_np == 0) / len(labels_np)\n",
    "p1 = np.sum(labels_np == 1) / len(labels_np)\n",
    "n0, n1 = round(p0 * 40), round(p1 * 40)\n",
    "print(n0, n1)\n",
    "\n",
    "indices_class_0 = np.where(labels_np == 0)[0]\n",
    "indices_class_1 = np.where(labels_np == 1)[0]\n",
    "\n",
    "# Stratified sample without replacement\n",
    "sample_indices_class_0 = np.random.choice(indices_class_0, 20, replace=False)\n",
    "sample_indices_class_1 = np.random.choice(indices_class_1, 20, replace=False)\n",
    "\n",
    "# Combine the indices of the two classes to get the final sample\n",
    "sample_indices = np.concatenate((sample_indices_class_0, sample_indices_class_1))\n",
    "np.random.shuffle(sample_indices)  # Mélangez-les pour ajouter de la randomisation\n",
    "\n",
    "# Sample the data and the labels\n",
    "sample_data = latent_means_np[sample_indices]"
   ]
  },
  {
   "cell_type": "code",
   "execution_count": 21,
   "metadata": {},
   "outputs": [
    {
     "name": "stderr",
     "output_type": "stream",
     "text": [
      "/home/tdanielou/Code/MVA/Geometric-Data-Analysis/.venv/lib/python3.10/site-packages/sklearn/cluster/_kmeans.py:1416: FutureWarning: The default value of `n_init` will change from 10 to 'auto' in 1.4. Set the value of `n_init` explicitly to suppress the warning\n",
      "  super()._check_params_vs_input(X, default_n_init=10)\n"
     ]
    },
    {
     "name": "stdout",
     "output_type": "stream",
     "text": [
      "[Initialize Graph] [Processed point: 0/12]\n"
     ]
    },
    {
     "name": "stderr",
     "output_type": "stream",
     "text": [
      "/home/tdanielou/Code/MVA/Geometric-Data-Analysis/.venv/lib/python3.10/site-packages/sklearn/cluster/_kmeans.py:1416: FutureWarning: The default value of `n_init` will change from 10 to 'auto' in 1.4. Set the value of `n_init` explicitly to suppress the warning\n",
      "  super()._check_params_vs_input(X, default_n_init=10)\n"
     ]
    },
    {
     "name": "stdout",
     "output_type": "stream",
     "text": [
      "[Initialize: 1/2] [Process point: 1/12]\n",
      "[Initialize: 1/2] [Process point: 2/12]\n",
      "[Initialize: 1/2] [Process point: 3/12]\n",
      "[Initialize: 1/2] [Process point: 4/12]\n",
      "[Initialize: 1/2] [Process point: 5/12]\n",
      "[Initialize: 1/2] [Process point: 6/12]\n",
      "[Initialize: 1/2] [Process point: 7/12]\n",
      "[Initialize: 1/2] [Process point: 8/12]\n",
      "[Initialize: 1/2] [Process point: 9/12]\n",
      "[Initialize: 1/2] [Process point: 10/12]\n",
      "[Initialize: 1/2] [Process point: 11/12]\n",
      "[Initialize: 1/2] [Process point: 12/12]\n",
      "[Initialize: 2/2] [Process point: 1/12]\n",
      "[Initialize: 2/2] [Process point: 2/12]\n",
      "[Initialize: 2/2] [Process point: 3/12]\n",
      "[Initialize: 2/2] [Process point: 4/12]\n",
      "[Initialize: 2/2] [Process point: 5/12]\n",
      "[Initialize: 2/2] [Process point: 6/12]\n",
      "[Initialize: 2/2] [Process point: 7/12]\n",
      "[Initialize: 2/2] [Process point: 8/12]\n",
      "[Initialize: 2/2] [Process point: 9/12]\n",
      "[Initialize: 2/2] [Process point: 10/12]\n",
      "[Initialize: 2/2] [Process point: 11/12]\n",
      "[Initialize: 2/2] [Process point: 12/12]\n"
     ]
    },
    {
     "name": "stderr",
     "output_type": "stream",
     "text": [
      "/home/tdanielou/Code/MVA/Geometric-Data-Analysis/latent_space_oddity_MVA/core/geodesics.py:133: IntegrationWarning: The maximum number of subdivisions (200) has been achieved.\n",
      "  If increasing the limit yields no improvement it is advised to analyze \n",
      "  the integrand in order to determine the difficulties.  If the position of a \n",
      "  local difficulty can be determined (singularity, discontinuity) one will \n",
      "  probably gain from splitting up the interval and calling the integrator \n",
      "  on the subranges.  Perhaps a special-purpose integrator should be used.\n",
      "  curve_length_eval = integrate.quad(lambda t: local_length(manifold, curve, t), a, b, epsabs=tol, limit=200)  # , number of subintervals\n",
      "/home/tdanielou/Code/MVA/Geometric-Data-Analysis/latent_space_oddity_MVA/core/geodesics.py:133: IntegrationWarning: The maximum number of subdivisions (200) has been achieved.\n",
      "  If increasing the limit yields no improvement it is advised to analyze \n",
      "  the integrand in order to determine the difficulties.  If the position of a \n",
      "  local difficulty can be determined (singularity, discontinuity) one will \n",
      "  probably gain from splitting up the interval and calling the integrator \n",
      "  on the subranges.  Perhaps a special-purpose integrator should be used.\n",
      "  curve_length_eval = integrate.quad(lambda t: local_length(manifold, curve, t), a, b, epsabs=tol, limit=200)  # , number of subintervals\n",
      "/home/tdanielou/Code/MVA/Geometric-Data-Analysis/latent_space_oddity_MVA/core/geodesics.py:133: IntegrationWarning: The maximum number of subdivisions (200) has been achieved.\n",
      "  If increasing the limit yields no improvement it is advised to analyze \n",
      "  the integrand in order to determine the difficulties.  If the position of a \n",
      "  local difficulty can be determined (singularity, discontinuity) one will \n",
      "  probably gain from splitting up the interval and calling the integrator \n",
      "  on the subranges.  Perhaps a special-purpose integrator should be used.\n",
      "  curve_length_eval = integrate.quad(lambda t: local_length(manifold, curve, t), a, b, epsabs=tol, limit=200)  # , number of subintervals\n"
     ]
    },
    {
     "name": "stdout",
     "output_type": "stream",
     "text": [
      "Expmap failed!\n"
     ]
    },
    {
     "name": "stderr",
     "output_type": "stream",
     "text": [
      "/home/tdanielou/Code/MVA/Geometric-Data-Analysis/latent_space_oddity_MVA/core/geodesics.py:133: IntegrationWarning: The maximum number of subdivisions (200) has been achieved.\n",
      "  If increasing the limit yields no improvement it is advised to analyze \n",
      "  the integrand in order to determine the difficulties.  If the position of a \n",
      "  local difficulty can be determined (singularity, discontinuity) one will \n",
      "  probably gain from splitting up the interval and calling the integrator \n",
      "  on the subranges.  Perhaps a special-purpose integrator should be used.\n",
      "  curve_length_eval = integrate.quad(lambda t: local_length(manifold, curve, t), a, b, epsabs=tol, limit=200)  # , number of subintervals\n",
      "/home/tdanielou/Code/MVA/Geometric-Data-Analysis/latent_space_oddity_MVA/core/geodesics.py:133: IntegrationWarning: The maximum number of subdivisions (200) has been achieved.\n",
      "  If increasing the limit yields no improvement it is advised to analyze \n",
      "  the integrand in order to determine the difficulties.  If the position of a \n",
      "  local difficulty can be determined (singularity, discontinuity) one will \n",
      "  probably gain from splitting up the interval and calling the integrator \n",
      "  on the subranges.  Perhaps a special-purpose integrator should be used.\n",
      "  curve_length_eval = integrate.quad(lambda t: local_length(manifold, curve, t), a, b, epsabs=tol, limit=200)  # , number of subintervals\n",
      "/home/tdanielou/Code/MVA/Geometric-Data-Analysis/latent_space_oddity_MVA/core/geodesics.py:133: IntegrationWarning: The maximum number of subdivisions (200) has been achieved.\n",
      "  If increasing the limit yields no improvement it is advised to analyze \n",
      "  the integrand in order to determine the difficulties.  If the position of a \n",
      "  local difficulty can be determined (singularity, discontinuity) one will \n",
      "  probably gain from splitting up the interval and calling the integrator \n",
      "  on the subranges.  Perhaps a special-purpose integrator should be used.\n",
      "  curve_length_eval = integrate.quad(lambda t: local_length(manifold, curve, t), a, b, epsabs=tol, limit=200)  # , number of subintervals\n"
     ]
    },
    {
     "name": "stdout",
     "output_type": "stream",
     "text": [
      "Expmap failed!\n"
     ]
    },
    {
     "name": "stderr",
     "output_type": "stream",
     "text": [
      "/home/tdanielou/Code/MVA/Geometric-Data-Analysis/latent_space_oddity_MVA/core/geodesics.py:133: IntegrationWarning: The maximum number of subdivisions (200) has been achieved.\n",
      "  If increasing the limit yields no improvement it is advised to analyze \n",
      "  the integrand in order to determine the difficulties.  If the position of a \n",
      "  local difficulty can be determined (singularity, discontinuity) one will \n",
      "  probably gain from splitting up the interval and calling the integrator \n",
      "  on the subranges.  Perhaps a special-purpose integrator should be used.\n",
      "  curve_length_eval = integrate.quad(lambda t: local_length(manifold, curve, t), a, b, epsabs=tol, limit=200)  # , number of subintervals\n"
     ]
    },
    {
     "name": "stdout",
     "output_type": "stream",
     "text": [
      "Expmap failed!\n",
      "Expmap failed!\n",
      "Expmap failed!\n",
      "Expmap failed!\n"
     ]
    },
    {
     "name": "stderr",
     "output_type": "stream",
     "text": [
      "/home/tdanielou/Code/MVA/Geometric-Data-Analysis/latent_space_oddity_MVA/core/geodesics.py:133: IntegrationWarning: The maximum number of subdivisions (200) has been achieved.\n",
      "  If increasing the limit yields no improvement it is advised to analyze \n",
      "  the integrand in order to determine the difficulties.  If the position of a \n",
      "  local difficulty can be determined (singularity, discontinuity) one will \n",
      "  probably gain from splitting up the interval and calling the integrator \n",
      "  on the subranges.  Perhaps a special-purpose integrator should be used.\n",
      "  curve_length_eval = integrate.quad(lambda t: local_length(manifold, curve, t), a, b, epsabs=tol, limit=200)  # , number of subintervals\n",
      "/home/tdanielou/Code/MVA/Geometric-Data-Analysis/latent_space_oddity_MVA/core/geodesics.py:133: IntegrationWarning: The maximum number of subdivisions (200) has been achieved.\n",
      "  If increasing the limit yields no improvement it is advised to analyze \n",
      "  the integrand in order to determine the difficulties.  If the position of a \n",
      "  local difficulty can be determined (singularity, discontinuity) one will \n",
      "  probably gain from splitting up the interval and calling the integrator \n",
      "  on the subranges.  Perhaps a special-purpose integrator should be used.\n",
      "  curve_length_eval = integrate.quad(lambda t: local_length(manifold, curve, t), a, b, epsabs=tol, limit=200)  # , number of subintervals\n",
      "/home/tdanielou/Code/MVA/Geometric-Data-Analysis/latent_space_oddity_MVA/core/geodesics.py:133: IntegrationWarning: The maximum number of subdivisions (200) has been achieved.\n",
      "  If increasing the limit yields no improvement it is advised to analyze \n",
      "  the integrand in order to determine the difficulties.  If the position of a \n",
      "  local difficulty can be determined (singularity, discontinuity) one will \n",
      "  probably gain from splitting up the interval and calling the integrator \n",
      "  on the subranges.  Perhaps a special-purpose integrator should be used.\n",
      "  curve_length_eval = integrate.quad(lambda t: local_length(manifold, curve, t), a, b, epsabs=tol, limit=200)  # , number of subintervals\n",
      "/home/tdanielou/Code/MVA/Geometric-Data-Analysis/latent_space_oddity_MVA/core/geodesics.py:133: IntegrationWarning: The occurrence of roundoff error is detected, which prevents \n",
      "  the requested tolerance from being achieved.  The error may be \n",
      "  underestimated.\n",
      "  curve_length_eval = integrate.quad(lambda t: local_length(manifold, curve, t), a, b, epsabs=tol, limit=200)  # , number of subintervals\n",
      "/home/tdanielou/Code/MVA/Geometric-Data-Analysis/latent_space_oddity_MVA/core/geodesics.py:133: IntegrationWarning: The maximum number of subdivisions (200) has been achieved.\n",
      "  If increasing the limit yields no improvement it is advised to analyze \n",
      "  the integrand in order to determine the difficulties.  If the position of a \n",
      "  local difficulty can be determined (singularity, discontinuity) one will \n",
      "  probably gain from splitting up the interval and calling the integrator \n",
      "  on the subranges.  Perhaps a special-purpose integrator should be used.\n",
      "  curve_length_eval = integrate.quad(lambda t: local_length(manifold, curve, t), a, b, epsabs=tol, limit=200)  # , number of subintervals\n"
     ]
    },
    {
     "name": "stdout",
     "output_type": "stream",
     "text": [
      "Expmap failed!\n"
     ]
    },
    {
     "name": "stderr",
     "output_type": "stream",
     "text": [
      "/home/tdanielou/Code/MVA/Geometric-Data-Analysis/latent_space_oddity_MVA/core/geodesics.py:133: IntegrationWarning: The maximum number of subdivisions (200) has been achieved.\n",
      "  If increasing the limit yields no improvement it is advised to analyze \n",
      "  the integrand in order to determine the difficulties.  If the position of a \n",
      "  local difficulty can be determined (singularity, discontinuity) one will \n",
      "  probably gain from splitting up the interval and calling the integrator \n",
      "  on the subranges.  Perhaps a special-purpose integrator should be used.\n",
      "  curve_length_eval = integrate.quad(lambda t: local_length(manifold, curve, t), a, b, epsabs=tol, limit=200)  # , number of subintervals\n",
      "/home/tdanielou/Code/MVA/Geometric-Data-Analysis/latent_space_oddity_MVA/core/geodesics.py:133: IntegrationWarning: The maximum number of subdivisions (200) has been achieved.\n",
      "  If increasing the limit yields no improvement it is advised to analyze \n",
      "  the integrand in order to determine the difficulties.  If the position of a \n",
      "  local difficulty can be determined (singularity, discontinuity) one will \n",
      "  probably gain from splitting up the interval and calling the integrator \n",
      "  on the subranges.  Perhaps a special-purpose integrator should be used.\n",
      "  curve_length_eval = integrate.quad(lambda t: local_length(manifold, curve, t), a, b, epsabs=tol, limit=200)  # , number of subintervals\n"
     ]
    },
    {
     "name": "stdout",
     "output_type": "stream",
     "text": [
      "Expmap failed!\n"
     ]
    },
    {
     "name": "stderr",
     "output_type": "stream",
     "text": [
      "/home/tdanielou/Code/MVA/Geometric-Data-Analysis/latent_space_oddity_MVA/core/geodesics.py:133: IntegrationWarning: The maximum number of subdivisions (200) has been achieved.\n",
      "  If increasing the limit yields no improvement it is advised to analyze \n",
      "  the integrand in order to determine the difficulties.  If the position of a \n",
      "  local difficulty can be determined (singularity, discontinuity) one will \n",
      "  probably gain from splitting up the interval and calling the integrator \n",
      "  on the subranges.  Perhaps a special-purpose integrator should be used.\n",
      "  curve_length_eval = integrate.quad(lambda t: local_length(manifold, curve, t), a, b, epsabs=tol, limit=200)  # , number of subintervals\n",
      "/home/tdanielou/Code/MVA/Geometric-Data-Analysis/latent_space_oddity_MVA/core/geodesics.py:133: IntegrationWarning: The maximum number of subdivisions (200) has been achieved.\n",
      "  If increasing the limit yields no improvement it is advised to analyze \n",
      "  the integrand in order to determine the difficulties.  If the position of a \n",
      "  local difficulty can be determined (singularity, discontinuity) one will \n",
      "  probably gain from splitting up the interval and calling the integrator \n",
      "  on the subranges.  Perhaps a special-purpose integrator should be used.\n",
      "  curve_length_eval = integrate.quad(lambda t: local_length(manifold, curve, t), a, b, epsabs=tol, limit=200)  # , number of subintervals\n",
      "/home/tdanielou/Code/MVA/Geometric-Data-Analysis/latent_space_oddity_MVA/core/geodesics.py:133: IntegrationWarning: The maximum number of subdivisions (200) has been achieved.\n",
      "  If increasing the limit yields no improvement it is advised to analyze \n",
      "  the integrand in order to determine the difficulties.  If the position of a \n",
      "  local difficulty can be determined (singularity, discontinuity) one will \n",
      "  probably gain from splitting up the interval and calling the integrator \n",
      "  on the subranges.  Perhaps a special-purpose integrator should be used.\n",
      "  curve_length_eval = integrate.quad(lambda t: local_length(manifold, curve, t), a, b, epsabs=tol, limit=200)  # , number of subintervals\n"
     ]
    },
    {
     "name": "stdout",
     "output_type": "stream",
     "text": [
      "Expmap failed!\n"
     ]
    },
    {
     "name": "stderr",
     "output_type": "stream",
     "text": [
      "/home/tdanielou/Code/MVA/Geometric-Data-Analysis/latent_space_oddity_MVA/core/geodesics.py:133: IntegrationWarning: The maximum number of subdivisions (200) has been achieved.\n",
      "  If increasing the limit yields no improvement it is advised to analyze \n",
      "  the integrand in order to determine the difficulties.  If the position of a \n",
      "  local difficulty can be determined (singularity, discontinuity) one will \n",
      "  probably gain from splitting up the interval and calling the integrator \n",
      "  on the subranges.  Perhaps a special-purpose integrator should be used.\n",
      "  curve_length_eval = integrate.quad(lambda t: local_length(manifold, curve, t), a, b, epsabs=tol, limit=200)  # , number of subintervals\n",
      "/home/tdanielou/Code/MVA/Geometric-Data-Analysis/latent_space_oddity_MVA/core/geodesics.py:133: IntegrationWarning: The maximum number of subdivisions (200) has been achieved.\n",
      "  If increasing the limit yields no improvement it is advised to analyze \n",
      "  the integrand in order to determine the difficulties.  If the position of a \n",
      "  local difficulty can be determined (singularity, discontinuity) one will \n",
      "  probably gain from splitting up the interval and calling the integrator \n",
      "  on the subranges.  Perhaps a special-purpose integrator should be used.\n",
      "  curve_length_eval = integrate.quad(lambda t: local_length(manifold, curve, t), a, b, epsabs=tol, limit=200)  # , number of subintervals\n",
      "/home/tdanielou/Code/MVA/Geometric-Data-Analysis/latent_space_oddity_MVA/core/geodesics.py:133: IntegrationWarning: The maximum number of subdivisions (200) has been achieved.\n",
      "  If increasing the limit yields no improvement it is advised to analyze \n",
      "  the integrand in order to determine the difficulties.  If the position of a \n",
      "  local difficulty can be determined (singularity, discontinuity) one will \n",
      "  probably gain from splitting up the interval and calling the integrator \n",
      "  on the subranges.  Perhaps a special-purpose integrator should be used.\n",
      "  curve_length_eval = integrate.quad(lambda t: local_length(manifold, curve, t), a, b, epsabs=tol, limit=200)  # , number of subintervals\n",
      "/home/tdanielou/Code/MVA/Geometric-Data-Analysis/latent_space_oddity_MVA/core/geodesics.py:133: IntegrationWarning: The maximum number of subdivisions (200) has been achieved.\n",
      "  If increasing the limit yields no improvement it is advised to analyze \n",
      "  the integrand in order to determine the difficulties.  If the position of a \n",
      "  local difficulty can be determined (singularity, discontinuity) one will \n",
      "  probably gain from splitting up the interval and calling the integrator \n",
      "  on the subranges.  Perhaps a special-purpose integrator should be used.\n",
      "  curve_length_eval = integrate.quad(lambda t: local_length(manifold, curve, t), a, b, epsabs=tol, limit=200)  # , number of subintervals\n"
     ]
    },
    {
     "name": "stdout",
     "output_type": "stream",
     "text": [
      "Expmap failed!\n"
     ]
    },
    {
     "name": "stderr",
     "output_type": "stream",
     "text": [
      "/home/tdanielou/Code/MVA/Geometric-Data-Analysis/latent_space_oddity_MVA/core/geodesics.py:133: IntegrationWarning: The maximum number of subdivisions (200) has been achieved.\n",
      "  If increasing the limit yields no improvement it is advised to analyze \n",
      "  the integrand in order to determine the difficulties.  If the position of a \n",
      "  local difficulty can be determined (singularity, discontinuity) one will \n",
      "  probably gain from splitting up the interval and calling the integrator \n",
      "  on the subranges.  Perhaps a special-purpose integrator should be used.\n",
      "  curve_length_eval = integrate.quad(lambda t: local_length(manifold, curve, t), a, b, epsabs=tol, limit=200)  # , number of subintervals\n",
      "/home/tdanielou/Code/MVA/Geometric-Data-Analysis/latent_space_oddity_MVA/core/geodesics.py:133: IntegrationWarning: The maximum number of subdivisions (200) has been achieved.\n",
      "  If increasing the limit yields no improvement it is advised to analyze \n",
      "  the integrand in order to determine the difficulties.  If the position of a \n",
      "  local difficulty can be determined (singularity, discontinuity) one will \n",
      "  probably gain from splitting up the interval and calling the integrator \n",
      "  on the subranges.  Perhaps a special-purpose integrator should be used.\n",
      "  curve_length_eval = integrate.quad(lambda t: local_length(manifold, curve, t), a, b, epsabs=tol, limit=200)  # , number of subintervals\n",
      "/home/tdanielou/Code/MVA/Geometric-Data-Analysis/latent_space_oddity_MVA/core/geodesics.py:133: IntegrationWarning: The maximum number of subdivisions (200) has been achieved.\n",
      "  If increasing the limit yields no improvement it is advised to analyze \n",
      "  the integrand in order to determine the difficulties.  If the position of a \n",
      "  local difficulty can be determined (singularity, discontinuity) one will \n",
      "  probably gain from splitting up the interval and calling the integrator \n",
      "  on the subranges.  Perhaps a special-purpose integrator should be used.\n",
      "  curve_length_eval = integrate.quad(lambda t: local_length(manifold, curve, t), a, b, epsabs=tol, limit=200)  # , number of subintervals\n",
      "/home/tdanielou/Code/MVA/Geometric-Data-Analysis/latent_space_oddity_MVA/core/geodesics.py:133: IntegrationWarning: The occurrence of roundoff error is detected, which prevents \n",
      "  the requested tolerance from being achieved.  The error may be \n",
      "  underestimated.\n",
      "  curve_length_eval = integrate.quad(lambda t: local_length(manifold, curve, t), a, b, epsabs=tol, limit=200)  # , number of subintervals\n"
     ]
    },
    {
     "name": "stdout",
     "output_type": "stream",
     "text": [
      "Expmap failed!\n"
     ]
    },
    {
     "name": "stderr",
     "output_type": "stream",
     "text": [
      "/home/tdanielou/Code/MVA/Geometric-Data-Analysis/latent_space_oddity_MVA/core/geodesics.py:133: IntegrationWarning: The maximum number of subdivisions (200) has been achieved.\n",
      "  If increasing the limit yields no improvement it is advised to analyze \n",
      "  the integrand in order to determine the difficulties.  If the position of a \n",
      "  local difficulty can be determined (singularity, discontinuity) one will \n",
      "  probably gain from splitting up the interval and calling the integrator \n",
      "  on the subranges.  Perhaps a special-purpose integrator should be used.\n",
      "  curve_length_eval = integrate.quad(lambda t: local_length(manifold, curve, t), a, b, epsabs=tol, limit=200)  # , number of subintervals\n",
      "/home/tdanielou/Code/MVA/Geometric-Data-Analysis/latent_space_oddity_MVA/core/geodesics.py:133: IntegrationWarning: The maximum number of subdivisions (200) has been achieved.\n",
      "  If increasing the limit yields no improvement it is advised to analyze \n",
      "  the integrand in order to determine the difficulties.  If the position of a \n",
      "  local difficulty can be determined (singularity, discontinuity) one will \n",
      "  probably gain from splitting up the interval and calling the integrator \n",
      "  on the subranges.  Perhaps a special-purpose integrator should be used.\n",
      "  curve_length_eval = integrate.quad(lambda t: local_length(manifold, curve, t), a, b, epsabs=tol, limit=200)  # , number of subintervals\n",
      "/home/tdanielou/Code/MVA/Geometric-Data-Analysis/latent_space_oddity_MVA/core/geodesics.py:133: IntegrationWarning: The maximum number of subdivisions (200) has been achieved.\n",
      "  If increasing the limit yields no improvement it is advised to analyze \n",
      "  the integrand in order to determine the difficulties.  If the position of a \n",
      "  local difficulty can be determined (singularity, discontinuity) one will \n",
      "  probably gain from splitting up the interval and calling the integrator \n",
      "  on the subranges.  Perhaps a special-purpose integrator should be used.\n",
      "  curve_length_eval = integrate.quad(lambda t: local_length(manifold, curve, t), a, b, epsabs=tol, limit=200)  # , number of subintervals\n",
      "/home/tdanielou/Code/MVA/Geometric-Data-Analysis/latent_space_oddity_MVA/core/geodesics.py:133: IntegrationWarning: The maximum number of subdivisions (200) has been achieved.\n",
      "  If increasing the limit yields no improvement it is advised to analyze \n",
      "  the integrand in order to determine the difficulties.  If the position of a \n",
      "  local difficulty can be determined (singularity, discontinuity) one will \n",
      "  probably gain from splitting up the interval and calling the integrator \n",
      "  on the subranges.  Perhaps a special-purpose integrator should be used.\n",
      "  curve_length_eval = integrate.quad(lambda t: local_length(manifold, curve, t), a, b, epsabs=tol, limit=200)  # , number of subintervals\n"
     ]
    },
    {
     "name": "stdout",
     "output_type": "stream",
     "text": [
      "Expmap failed!\n"
     ]
    },
    {
     "name": "stderr",
     "output_type": "stream",
     "text": [
      "/home/tdanielou/Code/MVA/Geometric-Data-Analysis/latent_space_oddity_MVA/core/geodesics.py:133: IntegrationWarning: The maximum number of subdivisions (200) has been achieved.\n",
      "  If increasing the limit yields no improvement it is advised to analyze \n",
      "  the integrand in order to determine the difficulties.  If the position of a \n",
      "  local difficulty can be determined (singularity, discontinuity) one will \n",
      "  probably gain from splitting up the interval and calling the integrator \n",
      "  on the subranges.  Perhaps a special-purpose integrator should be used.\n",
      "  curve_length_eval = integrate.quad(lambda t: local_length(manifold, curve, t), a, b, epsabs=tol, limit=200)  # , number of subintervals\n"
     ]
    },
    {
     "name": "stdout",
     "output_type": "stream",
     "text": [
      "Expmap failed!\n"
     ]
    },
    {
     "name": "stderr",
     "output_type": "stream",
     "text": [
      "/home/tdanielou/Code/MVA/Geometric-Data-Analysis/latent_space_oddity_MVA/core/geodesics.py:133: IntegrationWarning: The occurrence of roundoff error is detected, which prevents \n",
      "  the requested tolerance from being achieved.  The error may be \n",
      "  underestimated.\n",
      "  curve_length_eval = integrate.quad(lambda t: local_length(manifold, curve, t), a, b, epsabs=tol, limit=200)  # , number of subintervals\n",
      "/home/tdanielou/Code/MVA/Geometric-Data-Analysis/latent_space_oddity_MVA/core/geodesics.py:133: IntegrationWarning: The maximum number of subdivisions (200) has been achieved.\n",
      "  If increasing the limit yields no improvement it is advised to analyze \n",
      "  the integrand in order to determine the difficulties.  If the position of a \n",
      "  local difficulty can be determined (singularity, discontinuity) one will \n",
      "  probably gain from splitting up the interval and calling the integrator \n",
      "  on the subranges.  Perhaps a special-purpose integrator should be used.\n",
      "  curve_length_eval = integrate.quad(lambda t: local_length(manifold, curve, t), a, b, epsabs=tol, limit=200)  # , number of subintervals\n",
      "/home/tdanielou/Code/MVA/Geometric-Data-Analysis/latent_space_oddity_MVA/core/geodesics.py:133: IntegrationWarning: The maximum number of subdivisions (200) has been achieved.\n",
      "  If increasing the limit yields no improvement it is advised to analyze \n",
      "  the integrand in order to determine the difficulties.  If the position of a \n",
      "  local difficulty can be determined (singularity, discontinuity) one will \n",
      "  probably gain from splitting up the interval and calling the integrator \n",
      "  on the subranges.  Perhaps a special-purpose integrator should be used.\n",
      "  curve_length_eval = integrate.quad(lambda t: local_length(manifold, curve, t), a, b, epsabs=tol, limit=200)  # , number of subintervals\n",
      "/home/tdanielou/Code/MVA/Geometric-Data-Analysis/latent_space_oddity_MVA/core/geodesics.py:133: IntegrationWarning: The maximum number of subdivisions (200) has been achieved.\n",
      "  If increasing the limit yields no improvement it is advised to analyze \n",
      "  the integrand in order to determine the difficulties.  If the position of a \n",
      "  local difficulty can be determined (singularity, discontinuity) one will \n",
      "  probably gain from splitting up the interval and calling the integrator \n",
      "  on the subranges.  Perhaps a special-purpose integrator should be used.\n",
      "  curve_length_eval = integrate.quad(lambda t: local_length(manifold, curve, t), a, b, epsabs=tol, limit=200)  # , number of subintervals\n",
      "/home/tdanielou/Code/MVA/Geometric-Data-Analysis/latent_space_oddity_MVA/core/geodesics.py:133: IntegrationWarning: The maximum number of subdivisions (200) has been achieved.\n",
      "  If increasing the limit yields no improvement it is advised to analyze \n",
      "  the integrand in order to determine the difficulties.  If the position of a \n",
      "  local difficulty can be determined (singularity, discontinuity) one will \n",
      "  probably gain from splitting up the interval and calling the integrator \n",
      "  on the subranges.  Perhaps a special-purpose integrator should be used.\n",
      "  curve_length_eval = integrate.quad(lambda t: local_length(manifold, curve, t), a, b, epsabs=tol, limit=200)  # , number of subintervals\n",
      "/home/tdanielou/Code/MVA/Geometric-Data-Analysis/latent_space_oddity_MVA/core/geodesics.py:133: IntegrationWarning: The maximum number of subdivisions (200) has been achieved.\n",
      "  If increasing the limit yields no improvement it is advised to analyze \n",
      "  the integrand in order to determine the difficulties.  If the position of a \n",
      "  local difficulty can be determined (singularity, discontinuity) one will \n",
      "  probably gain from splitting up the interval and calling the integrator \n",
      "  on the subranges.  Perhaps a special-purpose integrator should be used.\n",
      "  curve_length_eval = integrate.quad(lambda t: local_length(manifold, curve, t), a, b, epsabs=tol, limit=200)  # , number of subintervals\n"
     ]
    },
    {
     "name": "stdout",
     "output_type": "stream",
     "text": [
      "Expmap failed!\n"
     ]
    },
    {
     "name": "stderr",
     "output_type": "stream",
     "text": [
      "/home/tdanielou/Code/MVA/Geometric-Data-Analysis/latent_space_oddity_MVA/core/geodesics.py:133: IntegrationWarning: The maximum number of subdivisions (200) has been achieved.\n",
      "  If increasing the limit yields no improvement it is advised to analyze \n",
      "  the integrand in order to determine the difficulties.  If the position of a \n",
      "  local difficulty can be determined (singularity, discontinuity) one will \n",
      "  probably gain from splitting up the interval and calling the integrator \n",
      "  on the subranges.  Perhaps a special-purpose integrator should be used.\n",
      "  curve_length_eval = integrate.quad(lambda t: local_length(manifold, curve, t), a, b, epsabs=tol, limit=200)  # , number of subintervals\n",
      "/home/tdanielou/Code/MVA/Geometric-Data-Analysis/latent_space_oddity_MVA/core/geodesics.py:133: IntegrationWarning: The maximum number of subdivisions (200) has been achieved.\n",
      "  If increasing the limit yields no improvement it is advised to analyze \n",
      "  the integrand in order to determine the difficulties.  If the position of a \n",
      "  local difficulty can be determined (singularity, discontinuity) one will \n",
      "  probably gain from splitting up the interval and calling the integrator \n",
      "  on the subranges.  Perhaps a special-purpose integrator should be used.\n",
      "  curve_length_eval = integrate.quad(lambda t: local_length(manifold, curve, t), a, b, epsabs=tol, limit=200)  # , number of subintervals\n"
     ]
    },
    {
     "name": "stdout",
     "output_type": "stream",
     "text": [
      "Expmap failed!\n"
     ]
    },
    {
     "name": "stderr",
     "output_type": "stream",
     "text": [
      "/home/tdanielou/Code/MVA/Geometric-Data-Analysis/latent_space_oddity_MVA/core/geodesics.py:133: IntegrationWarning: The maximum number of subdivisions (200) has been achieved.\n",
      "  If increasing the limit yields no improvement it is advised to analyze \n",
      "  the integrand in order to determine the difficulties.  If the position of a \n",
      "  local difficulty can be determined (singularity, discontinuity) one will \n",
      "  probably gain from splitting up the interval and calling the integrator \n",
      "  on the subranges.  Perhaps a special-purpose integrator should be used.\n",
      "  curve_length_eval = integrate.quad(lambda t: local_length(manifold, curve, t), a, b, epsabs=tol, limit=200)  # , number of subintervals\n",
      "/home/tdanielou/Code/MVA/Geometric-Data-Analysis/latent_space_oddity_MVA/core/geodesics.py:133: IntegrationWarning: The occurrence of roundoff error is detected, which prevents \n",
      "  the requested tolerance from being achieved.  The error may be \n",
      "  underestimated.\n",
      "  curve_length_eval = integrate.quad(lambda t: local_length(manifold, curve, t), a, b, epsabs=tol, limit=200)  # , number of subintervals\n"
     ]
    },
    {
     "name": "stdout",
     "output_type": "stream",
     "text": [
      "Expmap failed!\n"
     ]
    },
    {
     "name": "stderr",
     "output_type": "stream",
     "text": [
      "/home/tdanielou/Code/MVA/Geometric-Data-Analysis/latent_space_oddity_MVA/core/geodesics.py:133: IntegrationWarning: The maximum number of subdivisions (200) has been achieved.\n",
      "  If increasing the limit yields no improvement it is advised to analyze \n",
      "  the integrand in order to determine the difficulties.  If the position of a \n",
      "  local difficulty can be determined (singularity, discontinuity) one will \n",
      "  probably gain from splitting up the interval and calling the integrator \n",
      "  on the subranges.  Perhaps a special-purpose integrator should be used.\n",
      "  curve_length_eval = integrate.quad(lambda t: local_length(manifold, curve, t), a, b, epsabs=tol, limit=200)  # , number of subintervals\n",
      "/home/tdanielou/Code/MVA/Geometric-Data-Analysis/latent_space_oddity_MVA/core/geodesics.py:133: IntegrationWarning: The maximum number of subdivisions (200) has been achieved.\n",
      "  If increasing the limit yields no improvement it is advised to analyze \n",
      "  the integrand in order to determine the difficulties.  If the position of a \n",
      "  local difficulty can be determined (singularity, discontinuity) one will \n",
      "  probably gain from splitting up the interval and calling the integrator \n",
      "  on the subranges.  Perhaps a special-purpose integrator should be used.\n",
      "  curve_length_eval = integrate.quad(lambda t: local_length(manifold, curve, t), a, b, epsabs=tol, limit=200)  # , number of subintervals\n",
      "/home/tdanielou/Code/MVA/Geometric-Data-Analysis/latent_space_oddity_MVA/core/geodesics.py:133: IntegrationWarning: The maximum number of subdivisions (200) has been achieved.\n",
      "  If increasing the limit yields no improvement it is advised to analyze \n",
      "  the integrand in order to determine the difficulties.  If the position of a \n",
      "  local difficulty can be determined (singularity, discontinuity) one will \n",
      "  probably gain from splitting up the interval and calling the integrator \n",
      "  on the subranges.  Perhaps a special-purpose integrator should be used.\n",
      "  curve_length_eval = integrate.quad(lambda t: local_length(manifold, curve, t), a, b, epsabs=tol, limit=200)  # , number of subintervals\n"
     ]
    },
    {
     "ename": "KeyboardInterrupt",
     "evalue": "",
     "output_type": "error",
     "traceback": [
      "\u001b[0;31m---------------------------------------------------------------------------\u001b[0m",
      "\u001b[0;31mKeyboardInterrupt\u001b[0m                         Traceback (most recent call last)",
      "\u001b[1;32m/home/tdanielou/Code/MVA/Geometric-Data-Analysis/latent_space_oddity_MVA/LAND_Experiment.ipynb Cellule 14\u001b[0m line \u001b[0;36m2\n\u001b[1;32m     <a href='vscode-notebook-cell://wsl%2Bubuntu-22.04/home/tdanielou/Code/MVA/Geometric-Data-Analysis/latent_space_oddity_MVA/LAND_Experiment.ipynb#X14sdnNjb2RlLXJlbW90ZQ%3D%3D?line=18'>19</a>\u001b[0m param[\u001b[39m'\u001b[39m\u001b[39mstep_size\u001b[39m\u001b[39m'\u001b[39m] \u001b[39m=\u001b[39m \u001b[39m0.01\u001b[39m \u001b[39m# 0.1\u001b[39;00m\n\u001b[1;32m     <a href='vscode-notebook-cell://wsl%2Bubuntu-22.04/home/tdanielou/Code/MVA/Geometric-Data-Analysis/latent_space_oddity_MVA/LAND_Experiment.ipynb#X14sdnNjb2RlLXJlbW90ZQ%3D%3D?line=19'>20</a>\u001b[0m param[\u001b[39m'\u001b[39m\u001b[39mmixing_param\u001b[39m\u001b[39m'\u001b[39m] \u001b[39m=\u001b[39m \u001b[39m0\u001b[39m  \u001b[39m# [0, 1] how much between empirical covariance and identity\u001b[39;00m\n\u001b[0;32m---> <a href='vscode-notebook-cell://wsl%2Bubuntu-22.04/home/tdanielou/Code/MVA/Geometric-Data-Analysis/latent_space_oddity_MVA/LAND_Experiment.ipynb#X14sdnNjb2RlLXJlbW90ZQ%3D%3D?line=21'>22</a>\u001b[0m responsabilities \u001b[39m=\u001b[39m land_mixture_model(manifold_latent, solver_graph, GRAPH_DATA, param)\n",
      "File \u001b[0;32m~/Code/MVA/Geometric-Data-Analysis/latent_space_oddity_MVA/core/geometric_methods.py:241\u001b[0m, in \u001b[0;36mland_mixture_model\u001b[0;34m(manifold, solver, data, param)\u001b[0m\n\u001b[1;32m    238\u001b[0m     inds_k \u001b[39m=\u001b[39m (land[\u001b[39m'\u001b[39m\u001b[39mResp\u001b[39m\u001b[39m'\u001b[39m]\u001b[39m.\u001b[39margmax(axis\u001b[39m=\u001b[39m\u001b[39m1\u001b[39m) \u001b[39m==\u001b[39m k)  \u001b[39m# The closest points to the k-th center\u001b[39;00m\n\u001b[1;32m    239\u001b[0m     land[\u001b[39m'\u001b[39m\u001b[39mSigmas\u001b[39m\u001b[39m'\u001b[39m][k, :, :] \u001b[39m=\u001b[39m np\u001b[39m.\u001b[39mcov(land[\u001b[39m'\u001b[39m\u001b[39mLogmaps\u001b[39m\u001b[39m'\u001b[39m][k, inds_k, :]\u001b[39m.\u001b[39mT) \u001b[39m*\u001b[39m (\u001b[39m1\u001b[39m \u001b[39m-\u001b[39m param[\u001b[39m'\u001b[39m\u001b[39mmixing_param\u001b[39m\u001b[39m'\u001b[39m]) \u001b[39m+\u001b[39m np\u001b[39m.\u001b[39meye(D) \u001b[39m*\u001b[39m param[\u001b[39m'\u001b[39m\u001b[39mmixing_param\u001b[39m\u001b[39m'\u001b[39m]\n\u001b[1;32m    240\u001b[0m     land[\u001b[39m'\u001b[39m\u001b[39mConsts\u001b[39m\u001b[39m'\u001b[39m][k], land[\u001b[39m'\u001b[39m\u001b[39mV_samples\u001b[39m\u001b[39m'\u001b[39m][k, :, :], land[\u001b[39m'\u001b[39m\u001b[39mvolM_samples\u001b[39m\u001b[39m'\u001b[39m][:, k], land[\u001b[39m'\u001b[39m\u001b[39mZ_eucl\u001b[39m\u001b[39m'\u001b[39m][k], _ \\\n\u001b[0;32m--> 241\u001b[0m         \u001b[39m=\u001b[39m estimate_norm_constant(manifold, land[\u001b[39m'\u001b[39;49m\u001b[39mmeans\u001b[39;49m\u001b[39m'\u001b[39;49m][k, :]\u001b[39m.\u001b[39;49mreshape(\u001b[39m-\u001b[39;49m\u001b[39m1\u001b[39;49m, \u001b[39m1\u001b[39;49m), land[\u001b[39m'\u001b[39;49m\u001b[39mSigmas\u001b[39;49m\u001b[39m'\u001b[39;49m][k, :, :], param[\u001b[39m'\u001b[39;49m\u001b[39mS\u001b[39;49m\u001b[39m'\u001b[39;49m])\n\u001b[1;32m    243\u001b[0m negLogLikelihood \u001b[39m=\u001b[39m compute_negLogLikelihood(land)\n\u001b[1;32m    244\u001b[0m negLogLikelihoods \u001b[39m=\u001b[39m [negLogLikelihood]\n",
      "File \u001b[0;32m~/Code/MVA/Geometric-Data-Analysis/latent_space_oddity_MVA/core/geometric_methods.py:50\u001b[0m, in \u001b[0;36mestimate_norm_constant\u001b[0;34m(manifold, mu, Sigma, S)\u001b[0m\n\u001b[1;32m     48\u001b[0m \u001b[39mtry\u001b[39;00m:\n\u001b[1;32m     49\u001b[0m     v \u001b[39m=\u001b[39m A \u001b[39m@\u001b[39m np\u001b[39m.\u001b[39mrandom\u001b[39m.\u001b[39mrandn(D, \u001b[39m1\u001b[39m)  \u001b[39m# D x 1, get white noise to sample from N(0, Sigma)\u001b[39;00m\n\u001b[0;32m---> 50\u001b[0m     curve, failed \u001b[39m=\u001b[39m geodesics\u001b[39m.\u001b[39;49mexpmap(manifold, x\u001b[39m=\u001b[39;49mmu\u001b[39m.\u001b[39;49mreshape(\u001b[39m-\u001b[39;49m\u001b[39m1\u001b[39;49m, \u001b[39m1\u001b[39;49m), v\u001b[39m=\u001b[39;49mv\u001b[39m.\u001b[39;49mreshape(\u001b[39m-\u001b[39;49m\u001b[39m1\u001b[39;49m, \u001b[39m1\u001b[39;49m))\n\u001b[1;32m     51\u001b[0m     \u001b[39mif\u001b[39;00m \u001b[39mnot\u001b[39;00m failed:\n\u001b[1;32m     52\u001b[0m         X_samples[s, :] \u001b[39m=\u001b[39m curve(\u001b[39m1\u001b[39m)[\u001b[39m0\u001b[39m]\u001b[39m.\u001b[39mflatten()\n",
      "File \u001b[0;32m~/Code/MVA/Geometric-Data-Analysis/latent_space_oddity_MVA/core/geodesics.py:592\u001b[0m, in \u001b[0;36mexpmap\u001b[0;34m(manifold, x, v)\u001b[0m\n\u001b[1;32m    590\u001b[0m ode_fun \u001b[39m=\u001b[39m \u001b[39mlambda\u001b[39;00m t, c_dc: second2first_order(manifold, c_dc)\u001b[39m.\u001b[39mflatten()  \u001b[39m# The solver needs this shape (D,)\u001b[39;00m\n\u001b[1;32m    591\u001b[0m \u001b[39mif\u001b[39;00m np\u001b[39m.\u001b[39mlinalg\u001b[39m.\u001b[39mnorm(v) \u001b[39m>\u001b[39m \u001b[39m1e-5\u001b[39m:\n\u001b[0;32m--> 592\u001b[0m     curve, failed \u001b[39m=\u001b[39m solve_expmap(manifold, x, v, ode_fun)\n\u001b[1;32m    593\u001b[0m \u001b[39melse\u001b[39;00m:\n\u001b[1;32m    594\u001b[0m     curve \u001b[39m=\u001b[39m \u001b[39mlambda\u001b[39;00m t: (x\u001b[39m.\u001b[39mreshape(D, \u001b[39m1\u001b[39m)\u001b[39m.\u001b[39mrepeat(np\u001b[39m.\u001b[39msize(t), axis\u001b[39m=\u001b[39m\u001b[39m1\u001b[39m),\n\u001b[1;32m    595\u001b[0m                        v\u001b[39m.\u001b[39mreshape(D, \u001b[39m1\u001b[39m)\u001b[39m.\u001b[39mrepeat(np\u001b[39m.\u001b[39msize(t), axis\u001b[39m=\u001b[39m\u001b[39m1\u001b[39m))  \u001b[39m# Return tuple (2D x T)\u001b[39;00m\n",
      "File \u001b[0;32m~/Code/MVA/Geometric-Data-Analysis/latent_space_oddity_MVA/core/geodesics.py:623\u001b[0m, in \u001b[0;36msolve_expmap\u001b[0;34m(manifold, x, v, ode_fun)\u001b[0m\n\u001b[1;32m    620\u001b[0m failed \u001b[39m=\u001b[39m \u001b[39mFalse\u001b[39;00m\n\u001b[1;32m    622\u001b[0m \u001b[39m# Solve the IVP problem\u001b[39;00m\n\u001b[0;32m--> 623\u001b[0m solution \u001b[39m=\u001b[39m solve_ivp(ode_fun, [\u001b[39m0\u001b[39;49m, \u001b[39m1\u001b[39;49m], init, dense_output\u001b[39m=\u001b[39;49m\u001b[39mTrue\u001b[39;49;00m)  \u001b[39m# First solution of the IVP problem\u001b[39;00m\n\u001b[1;32m    624\u001b[0m curve \u001b[39m=\u001b[39m \u001b[39mlambda\u001b[39;00m t: evaluate_solution(solution, t)  \u001b[39m# with length(c(t)) != ||v||_c\u001b[39;00m\n\u001b[1;32m    625\u001b[0m solution_length \u001b[39m=\u001b[39m curve_length(manifold, curve, \u001b[39m0\u001b[39m, \u001b[39m1\u001b[39m)  \u001b[39m# the length the geodesic should have\u001b[39;00m\n",
      "File \u001b[0;32m~/Code/MVA/Geometric-Data-Analysis/.venv/lib/python3.10/site-packages/scipy/integrate/_ivp/ivp.py:602\u001b[0m, in \u001b[0;36msolve_ivp\u001b[0;34m(fun, t_span, y0, method, t_eval, dense_output, events, vectorized, args, **options)\u001b[0m\n\u001b[1;32m    600\u001b[0m status \u001b[39m=\u001b[39m \u001b[39mNone\u001b[39;00m\n\u001b[1;32m    601\u001b[0m \u001b[39mwhile\u001b[39;00m status \u001b[39mis\u001b[39;00m \u001b[39mNone\u001b[39;00m:\n\u001b[0;32m--> 602\u001b[0m     message \u001b[39m=\u001b[39m solver\u001b[39m.\u001b[39;49mstep()\n\u001b[1;32m    604\u001b[0m     \u001b[39mif\u001b[39;00m solver\u001b[39m.\u001b[39mstatus \u001b[39m==\u001b[39m \u001b[39m'\u001b[39m\u001b[39mfinished\u001b[39m\u001b[39m'\u001b[39m:\n\u001b[1;32m    605\u001b[0m         status \u001b[39m=\u001b[39m \u001b[39m0\u001b[39m\n",
      "File \u001b[0;32m~/Code/MVA/Geometric-Data-Analysis/.venv/lib/python3.10/site-packages/scipy/integrate/_ivp/base.py:197\u001b[0m, in \u001b[0;36mOdeSolver.step\u001b[0;34m(self)\u001b[0m\n\u001b[1;32m    195\u001b[0m \u001b[39melse\u001b[39;00m:\n\u001b[1;32m    196\u001b[0m     t \u001b[39m=\u001b[39m \u001b[39mself\u001b[39m\u001b[39m.\u001b[39mt\n\u001b[0;32m--> 197\u001b[0m     success, message \u001b[39m=\u001b[39m \u001b[39mself\u001b[39;49m\u001b[39m.\u001b[39;49m_step_impl()\n\u001b[1;32m    199\u001b[0m     \u001b[39mif\u001b[39;00m \u001b[39mnot\u001b[39;00m success:\n\u001b[1;32m    200\u001b[0m         \u001b[39mself\u001b[39m\u001b[39m.\u001b[39mstatus \u001b[39m=\u001b[39m \u001b[39m'\u001b[39m\u001b[39mfailed\u001b[39m\u001b[39m'\u001b[39m\n",
      "File \u001b[0;32m~/Code/MVA/Geometric-Data-Analysis/.venv/lib/python3.10/site-packages/scipy/integrate/_ivp/rk.py:144\u001b[0m, in \u001b[0;36mRungeKutta._step_impl\u001b[0;34m(self)\u001b[0m\n\u001b[1;32m    141\u001b[0m h \u001b[39m=\u001b[39m t_new \u001b[39m-\u001b[39m t\n\u001b[1;32m    142\u001b[0m h_abs \u001b[39m=\u001b[39m np\u001b[39m.\u001b[39mabs(h)\n\u001b[0;32m--> 144\u001b[0m y_new, f_new \u001b[39m=\u001b[39m rk_step(\u001b[39mself\u001b[39;49m\u001b[39m.\u001b[39;49mfun, t, y, \u001b[39mself\u001b[39;49m\u001b[39m.\u001b[39;49mf, h, \u001b[39mself\u001b[39;49m\u001b[39m.\u001b[39;49mA,\n\u001b[1;32m    145\u001b[0m                        \u001b[39mself\u001b[39;49m\u001b[39m.\u001b[39;49mB, \u001b[39mself\u001b[39;49m\u001b[39m.\u001b[39;49mC, \u001b[39mself\u001b[39;49m\u001b[39m.\u001b[39;49mK)\n\u001b[1;32m    146\u001b[0m scale \u001b[39m=\u001b[39m atol \u001b[39m+\u001b[39m np\u001b[39m.\u001b[39mmaximum(np\u001b[39m.\u001b[39mabs(y), np\u001b[39m.\u001b[39mabs(y_new)) \u001b[39m*\u001b[39m rtol\n\u001b[1;32m    147\u001b[0m error_norm \u001b[39m=\u001b[39m \u001b[39mself\u001b[39m\u001b[39m.\u001b[39m_estimate_error_norm(\u001b[39mself\u001b[39m\u001b[39m.\u001b[39mK, h, scale)\n",
      "File \u001b[0;32m~/Code/MVA/Geometric-Data-Analysis/.venv/lib/python3.10/site-packages/scipy/integrate/_ivp/rk.py:64\u001b[0m, in \u001b[0;36mrk_step\u001b[0;34m(fun, t, y, f, h, A, B, C, K)\u001b[0m\n\u001b[1;32m     62\u001b[0m \u001b[39mfor\u001b[39;00m s, (a, c) \u001b[39min\u001b[39;00m \u001b[39menumerate\u001b[39m(\u001b[39mzip\u001b[39m(A[\u001b[39m1\u001b[39m:], C[\u001b[39m1\u001b[39m:]), start\u001b[39m=\u001b[39m\u001b[39m1\u001b[39m):\n\u001b[1;32m     63\u001b[0m     dy \u001b[39m=\u001b[39m np\u001b[39m.\u001b[39mdot(K[:s]\u001b[39m.\u001b[39mT, a[:s]) \u001b[39m*\u001b[39m h\n\u001b[0;32m---> 64\u001b[0m     K[s] \u001b[39m=\u001b[39m fun(t \u001b[39m+\u001b[39;49m c \u001b[39m*\u001b[39;49m h, y \u001b[39m+\u001b[39;49m dy)\n\u001b[1;32m     66\u001b[0m y_new \u001b[39m=\u001b[39m y \u001b[39m+\u001b[39m h \u001b[39m*\u001b[39m np\u001b[39m.\u001b[39mdot(K[:\u001b[39m-\u001b[39m\u001b[39m1\u001b[39m]\u001b[39m.\u001b[39mT, B)\n\u001b[1;32m     67\u001b[0m f_new \u001b[39m=\u001b[39m fun(t \u001b[39m+\u001b[39m h, y_new)\n",
      "File \u001b[0;32m~/Code/MVA/Geometric-Data-Analysis/.venv/lib/python3.10/site-packages/scipy/integrate/_ivp/base.py:154\u001b[0m, in \u001b[0;36mOdeSolver.__init__.<locals>.fun\u001b[0;34m(t, y)\u001b[0m\n\u001b[1;32m    152\u001b[0m \u001b[39mdef\u001b[39;00m \u001b[39mfun\u001b[39m(t, y):\n\u001b[1;32m    153\u001b[0m     \u001b[39mself\u001b[39m\u001b[39m.\u001b[39mnfev \u001b[39m+\u001b[39m\u001b[39m=\u001b[39m \u001b[39m1\u001b[39m\n\u001b[0;32m--> 154\u001b[0m     \u001b[39mreturn\u001b[39;00m \u001b[39mself\u001b[39;49m\u001b[39m.\u001b[39;49mfun_single(t, y)\n",
      "File \u001b[0;32m~/Code/MVA/Geometric-Data-Analysis/.venv/lib/python3.10/site-packages/scipy/integrate/_ivp/base.py:23\u001b[0m, in \u001b[0;36mcheck_arguments.<locals>.fun_wrapped\u001b[0;34m(t, y)\u001b[0m\n\u001b[1;32m     22\u001b[0m \u001b[39mdef\u001b[39;00m \u001b[39mfun_wrapped\u001b[39m(t, y):\n\u001b[0;32m---> 23\u001b[0m     \u001b[39mreturn\u001b[39;00m np\u001b[39m.\u001b[39masarray(fun(t, y), dtype\u001b[39m=\u001b[39mdtype)\n",
      "File \u001b[0;32m~/Code/MVA/Geometric-Data-Analysis/latent_space_oddity_MVA/core/geodesics.py:590\u001b[0m, in \u001b[0;36mexpmap.<locals>.<lambda>\u001b[0;34m(t, c_dc)\u001b[0m\n\u001b[1;32m    587\u001b[0m v \u001b[39m=\u001b[39m v\u001b[39m.\u001b[39mreshape(\u001b[39m-\u001b[39m\u001b[39m1\u001b[39m, \u001b[39m1\u001b[39m)\n\u001b[1;32m    588\u001b[0m D \u001b[39m=\u001b[39m x\u001b[39m.\u001b[39mshape[\u001b[39m0\u001b[39m]\n\u001b[0;32m--> 590\u001b[0m ode_fun \u001b[39m=\u001b[39m \u001b[39mlambda\u001b[39;00m t, c_dc: second2first_order(manifold, c_dc)\u001b[39m.\u001b[39mflatten()  \u001b[39m# The solver needs this shape (D,)\u001b[39;00m\n\u001b[1;32m    591\u001b[0m \u001b[39mif\u001b[39;00m np\u001b[39m.\u001b[39mlinalg\u001b[39m.\u001b[39mnorm(v) \u001b[39m>\u001b[39m \u001b[39m1e-5\u001b[39m:\n\u001b[1;32m    592\u001b[0m     curve, failed \u001b[39m=\u001b[39m solve_expmap(manifold, x, v, ode_fun)\n",
      "File \u001b[0;32m~/Code/MVA/Geometric-Data-Analysis/latent_space_oddity_MVA/core/geodesics.py:67\u001b[0m, in \u001b[0;36msecond2first_order\u001b[0;34m(manifold, state)\u001b[0m\n\u001b[1;32m     65\u001b[0m c \u001b[39m=\u001b[39m state[:D, :]  \u001b[39m# D x N\u001b[39;00m\n\u001b[1;32m     66\u001b[0m cm \u001b[39m=\u001b[39m state[D:, :]  \u001b[39m# D x N\u001b[39;00m\n\u001b[0;32m---> 67\u001b[0m cmm \u001b[39m=\u001b[39m geodesic_system(manifold, c, cm)  \u001b[39m# D x N\u001b[39;00m\n\u001b[1;32m     68\u001b[0m y \u001b[39m=\u001b[39m np\u001b[39m.\u001b[39mconcatenate((cm, cmm), axis\u001b[39m=\u001b[39m\u001b[39m0\u001b[39m)\n\u001b[1;32m     69\u001b[0m \u001b[39mreturn\u001b[39;00m y\n",
      "File \u001b[0;32m~/Code/MVA/Geometric-Data-Analysis/latent_space_oddity_MVA/core/geodesics.py:25\u001b[0m, in \u001b[0;36mgeodesic_system\u001b[0;34m(manifold, c, dc)\u001b[0m\n\u001b[1;32m     22\u001b[0m     sys\u001b[39m.\u001b[39mexit(\u001b[39m1\u001b[39m)\n\u001b[1;32m     24\u001b[0m \u001b[39m# Evaluate the metric and the derivative\u001b[39;00m\n\u001b[0;32m---> 25\u001b[0m M, dM \u001b[39m=\u001b[39m manifold\u001b[39m.\u001b[39;49mmetric_tensor(c, nargout\u001b[39m=\u001b[39;49m\u001b[39m2\u001b[39;49m)\n\u001b[1;32m     27\u001b[0m \u001b[39m# Prepare the output (D x N)\u001b[39;00m\n\u001b[1;32m     28\u001b[0m ddc \u001b[39m=\u001b[39m np\u001b[39m.\u001b[39mzeros((D, N))\n",
      "File \u001b[0;32m~/Code/MVA/Geometric-Data-Analysis/latent_space_oddity_MVA/core/manifolds.py:542\u001b[0m, in \u001b[0;36mMlpMeanInvRbfVar.metric_tensor\u001b[0;34m(self, z, nargout)\u001b[0m\n\u001b[1;32m    525\u001b[0m         \u001b[39mfor\u001b[39;00m dd \u001b[39min\u001b[39;00m \u001b[39mrange\u001b[39m(d):\n\u001b[1;32m    526\u001b[0m             dJmudzd \u001b[39m=\u001b[39m (((\u001b[39mself\u001b[39m\u001b[39m.\u001b[39mdd_act_fun_output(W2f1W1f0W0Z0b0b1b2[:, n]\u001b[39m.\u001b[39mreshape(\u001b[39m-\u001b[39m\u001b[39m1\u001b[39m, \u001b[39m1\u001b[39m)) \u001b[39m*\u001b[39m \u001b[39mself\u001b[39m\u001b[39m.\u001b[39mW2)\n\u001b[1;32m    527\u001b[0m                         \u001b[39m@\u001b[39m (\u001b[39mself\u001b[39m\u001b[39m.\u001b[39md_act_fun_hidden(W1f0W0Z0b0b1[:, n]\u001b[39m.\u001b[39mreshape(\u001b[39m-\u001b[39m\u001b[39m1\u001b[39m, \u001b[39m1\u001b[39m)) \u001b[39m*\u001b[39m \u001b[39mself\u001b[39m\u001b[39m.\u001b[39mW1)\n\u001b[1;32m    528\u001b[0m                         \u001b[39m@\u001b[39m (\u001b[39mself\u001b[39m\u001b[39m.\u001b[39md_act_fun_hidden(W0Z0b0[:, n]\u001b[39m.\u001b[39mreshape(\u001b[39m-\u001b[39m\u001b[39m1\u001b[39m, \u001b[39m1\u001b[39m)) \u001b[39m*\u001b[39m \u001b[39mself\u001b[39m\u001b[39m.\u001b[39mW0[:, dd]\u001b[39m.\u001b[39mreshape(\u001b[39m-\u001b[39m\u001b[39m1\u001b[39m, \u001b[39m1\u001b[39m)))\n\u001b[0;32m   (...)\u001b[0m\n\u001b[1;32m    539\u001b[0m                          \u001b[39m@\u001b[39m ((\u001b[39mself\u001b[39m\u001b[39m.\u001b[39mdd_act_fun_hidden(W0Z0b0[:, n]\u001b[39m.\u001b[39mreshape(\u001b[39m-\u001b[39m\u001b[39m1\u001b[39m, \u001b[39m1\u001b[39m))\n\u001b[1;32m    540\u001b[0m                              \u001b[39m*\u001b[39m \u001b[39mself\u001b[39m\u001b[39m.\u001b[39mW0[:, dd]\u001b[39m.\u001b[39mreshape(\u001b[39m-\u001b[39m\u001b[39m1\u001b[39m, \u001b[39m1\u001b[39m)) \u001b[39m*\u001b[39m \u001b[39mself\u001b[39m\u001b[39m.\u001b[39mW0))\n\u001b[0;32m--> 542\u001b[0m             dJsigmadzd \u001b[39m=\u001b[39m \u001b[39mself\u001b[39;49m\u001b[39m.\u001b[39;49mdd_rbf_fun(z_n, dd)\n\u001b[1;32m    544\u001b[0m             dMdz[n, :, :, dd] \u001b[39m=\u001b[39m dJmudzd\u001b[39m.\u001b[39mT \u001b[39m@\u001b[39m dmudz \u001b[39m+\u001b[39m dmudz\u001b[39m.\u001b[39mT \u001b[39m@\u001b[39m dJmudzd \\\n\u001b[1;32m    545\u001b[0m                                 \u001b[39m+\u001b[39m dJsigmadzd\u001b[39m.\u001b[39mT \u001b[39m@\u001b[39m dsigmadz \u001b[39m+\u001b[39m dsigmadz\u001b[39m.\u001b[39mT \u001b[39m@\u001b[39m dJsigmadzd\n\u001b[1;32m    547\u001b[0m \u001b[39mif\u001b[39;00m nargout \u001b[39m==\u001b[39m \u001b[39m2\u001b[39m:\n",
      "File \u001b[0;32m~/Code/MVA/Geometric-Data-Analysis/latent_space_oddity_MVA/core/manifolds.py:465\u001b[0m, in \u001b[0;36mMlpMeanInvRbfVar.dd_rbf_fun\u001b[0;34m(self, z, d)\u001b[0m\n\u001b[1;32m    462\u001b[0m temp \u001b[39m=\u001b[39m np\u001b[39m.\u001b[39mzeros(\u001b[39mself\u001b[39m\u001b[39m.\u001b[39mCrbf\u001b[39m.\u001b[39mshape)\n\u001b[1;32m    463\u001b[0m temp[:, d] \u001b[39m=\u001b[39m \u001b[39m1\u001b[39m\n\u001b[0;32m--> 465\u001b[0m output_rbf_val, rbf_val \u001b[39m=\u001b[39m \u001b[39mself\u001b[39;49m\u001b[39m.\u001b[39;49mrbf_fun(z, nargout\u001b[39m=\u001b[39;49m\u001b[39m2\u001b[39;49m)  \u001b[39m# input should be 1 x d\u001b[39;00m\n\u001b[1;32m    467\u001b[0m val \u001b[39m=\u001b[39m \u001b[39m-\u001b[39m\u001b[39m0.5\u001b[39m \u001b[39m*\u001b[39m (((\u001b[39m-\u001b[39m\u001b[39m1.5\u001b[39m \u001b[39m/\u001b[39m np\u001b[39m.\u001b[39msqrt(output_rbf_val \u001b[39m*\u001b[39m\u001b[39m*\u001b[39m \u001b[39m5\u001b[39m)) \u001b[39m*\u001b[39m (\n\u001b[1;32m    468\u001b[0m         \u001b[39mself\u001b[39m\u001b[39m.\u001b[39mWrbf \u001b[39m@\u001b[39m (\u001b[39m-\u001b[39m\u001b[39m2\u001b[39m \u001b[39m*\u001b[39m \u001b[39mself\u001b[39m\u001b[39m.\u001b[39mGrbf \u001b[39m*\u001b[39m (rbf_val \u001b[39m*\u001b[39m (z[d] \u001b[39m-\u001b[39m \u001b[39mself\u001b[39m\u001b[39m.\u001b[39mCrbf[:, d]\u001b[39m.\u001b[39mreshape(\u001b[39m-\u001b[39m\u001b[39m1\u001b[39m, \u001b[39m1\u001b[39m))))))\n\u001b[1;32m    469\u001b[0m               \u001b[39m*\u001b[39m (\u001b[39m-\u001b[39m\u001b[39m2\u001b[39m \u001b[39m*\u001b[39m \u001b[39mself\u001b[39m\u001b[39m.\u001b[39mWrbf \u001b[39m@\u001b[39m (rbf_val \u001b[39m*\u001b[39m (\u001b[39mself\u001b[39m\u001b[39m.\u001b[39mGrbf \u001b[39m*\u001b[39m (z\u001b[39m.\u001b[39mT \u001b[39m-\u001b[39m \u001b[39mself\u001b[39m\u001b[39m.\u001b[39mCrbf))))) \\\n\u001b[0;32m   (...)\u001b[0m\n\u001b[1;32m    472\u001b[0m                                 \u001b[39m*\u001b[39m (temp \u001b[39m*\u001b[39m rbf_val \u001b[39m-\u001b[39m \u001b[39m2\u001b[39m \u001b[39m*\u001b[39m (z[d] \u001b[39m-\u001b[39m \u001b[39mself\u001b[39m\u001b[39m.\u001b[39mCrbf[:, d]\u001b[39m.\u001b[39mreshape(\u001b[39m-\u001b[39m\u001b[39m1\u001b[39m, \u001b[39m1\u001b[39m))\n\u001b[1;32m    473\u001b[0m                                    \u001b[39m*\u001b[39m \u001b[39mself\u001b[39m\u001b[39m.\u001b[39mGrbf \u001b[39m*\u001b[39m (z\u001b[39m.\u001b[39mT \u001b[39m-\u001b[39m \u001b[39mself\u001b[39m\u001b[39m.\u001b[39mCrbf) \u001b[39m*\u001b[39m rbf_val))))\n\u001b[1;32m    474\u001b[0m \u001b[39mreturn\u001b[39;00m val\n",
      "File \u001b[0;32m~/Code/MVA/Geometric-Data-Analysis/latent_space_oddity_MVA/core/manifolds.py:449\u001b[0m, in \u001b[0;36mMlpMeanInvRbfVar.rbf_fun\u001b[0;34m(self, z, nargout)\u001b[0m\n\u001b[1;32m    447\u001b[0m val \u001b[39m=\u001b[39m np\u001b[39m.\u001b[39mexp(\u001b[39m-\u001b[39m\u001b[39mself\u001b[39m\u001b[39m.\u001b[39mGrbf \u001b[39m*\u001b[39m (pairwise_distances(\u001b[39mself\u001b[39m\u001b[39m.\u001b[39mCrbf, z\u001b[39m.\u001b[39mT) \u001b[39m*\u001b[39m\u001b[39m*\u001b[39m \u001b[39m2\u001b[39m))\n\u001b[1;32m    448\u001b[0m rbf_val \u001b[39m=\u001b[39m \u001b[39mself\u001b[39m\u001b[39m.\u001b[39mWrbf \u001b[39m@\u001b[39m val \u001b[39m+\u001b[39m \u001b[39mself\u001b[39m\u001b[39m.\u001b[39mzeta\n\u001b[0;32m--> 449\u001b[0m \u001b[39mif\u001b[39;00m nargout \u001b[39m==\u001b[39m \u001b[39m1\u001b[39m:\n\u001b[1;32m    450\u001b[0m     \u001b[39mreturn\u001b[39;00m rbf_val\n\u001b[1;32m    451\u001b[0m \u001b[39melse\u001b[39;00m:\n",
      "\u001b[0;31mKeyboardInterrupt\u001b[0m: "
     ]
    }
   ],
   "source": [
    "from core.geometric_methods import land_predict, land_mixture_model\n",
    "data = sample_data\n",
    "\n",
    "# Compute some random curve using a heuristic graph solver \n",
    "GRAPH_DATA = KMeans(n_clusters=12, max_iter=100).fit(data).cluster_centers_\n",
    "solver_graph = geodesics.SolverGraph(manifold_latent, data=GRAPH_DATA, kNN_num=5, tol=0.2)\n",
    "\n",
    "data = sample_data\n",
    "param = {}\n",
    "param[\"means\"] = KMeans(n_clusters=2).fit(data).cluster_centers_ # GRAPH_DATA = KMeans(n_clusters=64, n_init=30, max_iter=1000).fit(latent_means_np).cluster_centers_\n",
    "param[\"K\"] = 2 # number of clusters\n",
    "param[\"S\"] = 10 # We wand to use 40 samples to normalize the distribution land \n",
    "param['max_iter'] = 10\n",
    "param['tol'] = 0.2 # 0.1\n",
    "param['step_size'] = 0.01 # 0.1\n",
    "param['mixing_param'] = 0  # [0, 1] how much between empirical covariance and identity\n",
    "\n",
    "responsabilities = land_mixture_model(manifold_latent, solver_graph, GRAPH_DATA, param)"
   ]
  },
  {
   "cell_type": "code",
   "execution_count": null,
   "metadata": {},
   "outputs": [
    {
     "data": {
      "text/plain": [
       "torch.Size([12665, 2])"
      ]
     },
     "execution_count": 25,
     "metadata": {},
     "output_type": "execute_result"
    }
   ],
   "source": [
    "# Plot the density\n",
    "z1min, z2min = data.min(0) - 0.5\n",
    "z1max, z2max = data.max(0) + 0.5\n",
    "N_Z_grid = 20\n",
    "Z_grid = utils.my_meshgrid(z1min, z1max, z2min, z2max, N=N_Z_grid)\n",
    "Logmaps = np.zeros((2, Z_grid.shape[0], data.shape[1]))  # The logmaps for each center\n",
    "for k in range(2):\n",
    "    for n in range(Z_grid.shape[0]):\n",
    "        # If the solver fails then the logmap is overestimated (straight line)\n",
    "        curve_bvp, logmap_bvp, curve_length_bvp, failed_bvp, solution_bvp \\\n",
    "            = geodesics.compute_geodesic(solver, manifold,\n",
    "                                         land_res_prior['means'][k, :].reshape(-1, 1),\n",
    "                                         Z_grid[n, :].reshape(-1, 1))\n",
    "        Logmaps[k, n, :] = logmap_bvp.ravel()\n",
    "\n",
    "pdf_vals = np.zeros((Z_grid.shape[0], 1))\n",
    "for k in range(2):\n",
    "    pdf_vals += land_res_prior['Weights'][k, 0] * (np.exp(-0.5 * np.diag(Logmaps[k, :, :] @ np.linalg.inv(land_res_prior['Sigmas'][k, :, :]) @ Logmaps[k, :, :].T)) / land_res_prior['Consts'][k, 0]).reshape(-1, 1)\n",
    "plt.imshow(pdf_vals.reshape(N_Z_grid, N_Z_grid), interpolation='bicubic',\n",
    "           extent=(z1min, z1max, z2min, z2max), origin='lower')"
   ]
  }
 ],
 "metadata": {
  "kernelspec": {
   "display_name": ".venv",
   "language": "python",
   "name": "python3"
  },
  "language_info": {
   "codemirror_mode": {
    "name": "ipython",
    "version": 3
   },
   "file_extension": ".py",
   "mimetype": "text/x-python",
   "name": "python",
   "nbconvert_exporter": "python",
   "pygments_lexer": "ipython3",
   "version": "3.10.6"
  }
 },
 "nbformat": 4,
 "nbformat_minor": 2
}
